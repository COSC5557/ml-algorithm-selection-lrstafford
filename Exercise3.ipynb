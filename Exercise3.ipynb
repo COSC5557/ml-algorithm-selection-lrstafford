{
 "cells": [
  {
   "cell_type": "markdown",
   "id": "ea175163-0c66-497b-8d92-9e0b31723786",
   "metadata": {},
   "source": [
    "#### This exercise was performed on ARCC Beartooth with the following environment/software packages:\n",
    "\n",
    "#### Load Preinstalled Modules:\n",
    "module load gcc12.2.0 miniconda3 git/2.37.0\n",
    "\n",
    "#### Create environment then activate with:\n",
    "conda env create -f whatev_ml_env.yml\n",
    "conda activate whatev_ml_env\n",
    "\n",
    "#### Make sure jupyter can see the kernel in your conda env so you can select from southpass interface dropdown:\n",
    "python -m ipykernel install --user --name=whatev_conda\n",
    "\n",
    "#### Download data to folder and extract\n",
    "wget https://archive.ics.uci.edu/static/public/186/wine+quality.zip\n",
    "unzip wine+quality.zip\n",
    "\n",
    "wget https://www.openml.org/data/download/53537/primary-tumor.arff \n",
    "\n",
    "### In prior exercises, we performed exploratory data analysis and cleaned our data initially - now we will perform machine learning on the data which we've already cleaned."
   ]
  },
  {
   "cell_type": "markdown",
   "id": "71dc045b-d5f9-43dc-897f-265b39b64303",
   "metadata": {},
   "source": [
    "## Directions\n",
    "Choose a small number of different machine learning algorithms. For example, you\n",
    "could use a random forest, support vector machine, linear/logistic regression, a\n",
    "decision/regression tree learner, and gradient boosting. You will also have to\n",
    "choose their hyperparameters, e.g. the default values. Determine the best\n",
    "machine learning algorithm for your dataset, where the \"best\" algorithm could be\n",
    "a set of algorithms. Make sure that the way you evaluate this avoids bias and\n",
    "overfitting. You could use statistical tests to make this determination."
   ]
  },
  {
   "cell_type": "code",
   "execution_count": null,
   "id": "1e04c9d9-050b-4464-bcb3-58d38e051b69",
   "metadata": {},
   "outputs": [],
   "source": []
  }
 ],
 "metadata": {
  "kernelspec": {
   "display_name": "conda-torch",
   "language": "python",
   "name": "conda-torch"
  },
  "language_info": {
   "codemirror_mode": {
    "name": "ipython",
    "version": 3
   },
   "file_extension": ".py",
   "mimetype": "text/x-python",
   "name": "python",
   "nbconvert_exporter": "python",
   "pygments_lexer": "ipython3",
   "version": "3.10.13"
  }
 },
 "nbformat": 4,
 "nbformat_minor": 5
}
